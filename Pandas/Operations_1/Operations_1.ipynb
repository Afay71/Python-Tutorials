{
 "cells": [
  {
   "cell_type": "code",
   "execution_count": 1,
   "id": "c64f12c2-973a-4f30-a95c-bec66f5fa0d1",
   "metadata": {},
   "outputs": [],
   "source": [
    "import numpy as np\n",
    "import pandas as pd"
   ]
  },
  {
   "cell_type": "markdown",
   "id": "7345d16c-cfa5-4a9f-8828-608719574e0d",
   "metadata": {},
   "source": [
    "# Missing Data"
   ]
  },
  {
   "cell_type": "code",
   "execution_count": 2,
   "id": "3d2f3d7f-549e-46be-a7c8-3a21fecdb6c4",
   "metadata": {},
   "outputs": [
    {
     "name": "stdout",
     "output_type": "stream",
     "text": [
      "   Istanbul  Ankara  Izmir\n",
      "0      30.0    20.0     40\n",
      "1      29.0     NaN     39\n",
      "2       NaN    25.0     38\n"
     ]
    }
   ],
   "source": [
    "dictionaryData = {\"Istanbul\" : [30, 29, np.nan], \"Ankara\" : [20, np.nan, 25], \"Izmir\" : [40, 39, 38]}\n",
    "weatherDataFrame = pd.DataFrame(dictionaryData)\n",
    "print(weatherDataFrame)"
   ]
  },
  {
   "cell_type": "code",
   "execution_count": 3,
   "id": "b6dded1c-2254-4930-abbd-c212e834253b",
   "metadata": {},
   "outputs": [
    {
     "name": "stdout",
     "output_type": "stream",
     "text": [
      "   Istanbul  Ankara  Izmir  Antalya\n",
      "0      30.0    20.0     40     45.0\n",
      "1      29.0     NaN     39      NaN\n",
      "2       NaN    25.0     38      NaN\n",
      "   Istanbul  Ankara  Izmir\n",
      "0      30.0    20.0     40\n",
      "1      29.0     NaN     39\n",
      "2       NaN    25.0     38\n",
      "   Istanbul  Ankara  Izmir  Antalya\n",
      "0      30.0    20.0     40     45.0\n",
      "1      29.0    20.0     39     20.0\n",
      "2      20.0    25.0     38     20.0\n"
     ]
    }
   ],
   "source": [
    "newData = {\"Istanbul\" : [30, 29, np.nan], \"Ankara\" : [20, np.nan, 25], \"Izmir\" : [40, 39, 38], \"Antalya\" : [45, np.nan, np.nan]}\n",
    "newDataFrame = pd.DataFrame(newData)\n",
    "print(newDataFrame)\n",
    "print(newDataFrame.dropna(axis=1, thresh=2)) # Drop columns with more than 2 NaN values\n",
    "newDataFrame.fillna(20, inplace=True) # Fill all NaN values with 20\n",
    "print(newDataFrame)"
   ]
  },
  {
   "cell_type": "markdown",
   "id": "91a386e2-9cfe-445e-adf3-ab475bbd84a2",
   "metadata": {},
   "source": [
    "# Grouping"
   ]
  },
  {
   "cell_type": "code",
   "execution_count": 4,
   "id": "7944e63a-ce60-4295-8be9-75a3a463cc78",
   "metadata": {},
   "outputs": [
    {
     "name": "stdout",
     "output_type": "stream",
     "text": [
      "  Department Employee Name  Salary\n",
      "0   Software         Ahmet     100\n",
      "1   Software        Mehmet     150\n",
      "2    Finance          Atil     200\n",
      "3    Finance         Burak     300\n",
      "4        Law        Zeynep     400\n",
      "5        Law         Fatma     500\n"
     ]
    }
   ],
   "source": [
    "salaryDictionary = {\"Department\" : [\"Software\", \"Software\", \"Finance\", \"Finance\", \"Law\", \"Law\"],\n",
    "\"Employee Name\" : [\"Ahmet\", \"Mehmet\", \"Atil\", \"Burak\", \"Zeynep\", \"Fatma\"],\n",
    "\"Salary\" : [100, 150, 200, 300, 400, 500]}\n",
    "salaryDataFrame = pd.DataFrame(salaryDictionary)\n",
    "print(salaryDataFrame)"
   ]
  },
  {
   "cell_type": "code",
   "execution_count": 5,
   "id": "7d0e7ff0-f843-4339-a6ec-7d80caef514c",
   "metadata": {},
   "outputs": [
    {
     "name": "stdout",
     "output_type": "stream",
     "text": [
      "            Employee Name  Salary\n",
      "Department                       \n",
      "Finance                 2       2\n",
      "Law                     2       2\n",
      "Software                2       2\n"
     ]
    }
   ],
   "source": [
    "groupObject = salaryDataFrame.groupby(\"Department\")\n",
    "print(groupObject.count())"
   ]
  }
 ],
 "metadata": {
  "kernelspec": {
   "display_name": "Python 3 (ipykernel)",
   "language": "python",
   "name": "python3"
  },
  "language_info": {
   "codemirror_mode": {
    "name": "ipython",
    "version": 3
   },
   "file_extension": ".py",
   "mimetype": "text/x-python",
   "name": "python",
   "nbconvert_exporter": "python",
   "pygments_lexer": "ipython3",
   "version": "3.9.18"
  }
 },
 "nbformat": 4,
 "nbformat_minor": 5
}
