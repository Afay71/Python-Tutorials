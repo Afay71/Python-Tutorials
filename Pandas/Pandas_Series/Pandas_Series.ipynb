{
 "cells": [
  {
   "cell_type": "code",
   "execution_count": 1,
   "id": "67da3cfe-d05f-4a6c-b6ad-3239a50613e3",
   "metadata": {},
   "outputs": [],
   "source": [
    "import numpy as np\n",
    "import pandas as pd"
   ]
  },
  {
   "cell_type": "markdown",
   "id": "2d18b8f0-4ac5-4ad6-aaa9-b3837ef43300",
   "metadata": {},
   "source": [
    "# SERIES"
   ]
  },
  {
   "cell_type": "code",
   "execution_count": 2,
   "id": "156310d0-ef32-4970-831d-6f8440cd6785",
   "metadata": {},
   "outputs": [
    {
     "name": "stdout",
     "output_type": "stream",
     "text": [
      "Atil      50\n",
      "Zeynep    40\n",
      "Mehmet    30\n",
      "dtype: int64\n"
     ]
    }
   ],
   "source": [
    "myDictionary = {\"Atil\": 50, \"Zeynep\": 40, \"Mehmet\": 30}\n",
    "print(pd.Series(myDictionary))"
   ]
  },
  {
   "cell_type": "code",
   "execution_count": 3,
   "id": "5a42fe73-dd7c-4cb4-aeb9-5d358bb86539",
   "metadata": {},
   "outputs": [
    {
     "name": "stdout",
     "output_type": "stream",
     "text": [
      "0    50\n",
      "1    40\n",
      "2    30\n",
      "dtype: int64\n",
      "Atil      50\n",
      "Zeynep    40\n",
      "Mehmet    30\n",
      "dtype: int64\n",
      "Atil      50\n",
      "Zeynep    40\n",
      "Mehmet    30\n",
      "dtype: int64\n"
     ]
    }
   ],
   "source": [
    "myAges = [50, 40, 30]\n",
    "myNames = [\"Atil\", \"Zeynep\", \"Mehmet\"]\n",
    "print(pd.Series(myAges))\n",
    "print(pd.Series(myAges, myNames))\n",
    "print(pd.Series(data=myAges, index=myNames))"
   ]
  },
  {
   "cell_type": "code",
   "execution_count": 4,
   "id": "4c750d6d-af3c-483c-92b7-e007b60a26c8",
   "metadata": {},
   "outputs": [
    {
     "name": "stdout",
     "output_type": "stream",
     "text": [
      "0    50\n",
      "1    40\n",
      "2    30\n",
      "dtype: int32\n",
      "Atil      50\n",
      "Zeynep    40\n",
      "Mehmet    30\n",
      "dtype: int32\n"
     ]
    }
   ],
   "source": [
    "numpyArray = np.array([50, 40, 30])\n",
    "print(pd.Series(numpyArray))\n",
    "print(pd.Series(numpyArray, myNames))"
   ]
  },
  {
   "cell_type": "markdown",
   "id": "ef93c9a1-940e-41ff-baa8-89d642802e7c",
   "metadata": {},
   "source": [
    "##### This way we can create a series both with an array and a dictionary."
   ]
  },
  {
   "cell_type": "markdown",
   "id": "fac1d836-ba17-452b-92d1-bc88538b120d",
   "metadata": {},
   "source": [
    "# SERIES FEATURES"
   ]
  },
  {
   "cell_type": "code",
   "execution_count": 5,
   "id": "ab571249-9c56-43ef-8d1e-be386f383e64",
   "metadata": {},
   "outputs": [
    {
     "name": "stdout",
     "output_type": "stream",
     "text": [
      "Atil     10\n",
      "Atlas     5\n",
      "Osman     1\n",
      "dtype: int64\n",
      "Atil     20\n",
      "Atlas    10\n",
      "Osman     8\n",
      "dtype: int64\n",
      "Atil     30\n",
      "Atlas    15\n",
      "Osman     9\n",
      "dtype: int64\n"
     ]
    }
   ],
   "source": [
    "competitionResults = pd.Series([10, 5, 1], [\"Atil\", \"Atlas\", \"Osman\"])\n",
    "print(competitionResults)\n",
    "\n",
    "competitionResults2 = pd.Series([20, 10, 8], [\"Atil\", \"Atlas\", \"Osman\"])\n",
    "print(competitionResults2)\n",
    "\n",
    "finalResult = competitionResults + competitionResults2\n",
    "print(finalResult)"
   ]
  },
  {
   "cell_type": "code",
   "execution_count": 6,
   "id": "86064813-ed2f-4eab-be84-d8155e1f0774",
   "metadata": {},
   "outputs": [
    {
     "name": "stdout",
     "output_type": "stream",
     "text": [
      "a    20\n",
      "b    30\n",
      "c    40\n",
      "d    50\n",
      "dtype: int64\n",
      "a    10\n",
      "c     5\n",
      "f     3\n",
      "g     1\n",
      "dtype: int64\n",
      "a    30.0\n",
      "b     NaN\n",
      "c    45.0\n",
      "d     NaN\n",
      "f     NaN\n",
      "g     NaN\n",
      "dtype: float64\n"
     ]
    }
   ],
   "source": [
    "differentSeries = pd.Series([20, 30, 40, 50], [\"a\", \"b\", \"c\", \"d\"])\n",
    "differentSeries2 = pd.Series([10, 5, 3, 1], [\"a\", \"c\", \"f\", \"g\"])\n",
    "print(differentSeries)\n",
    "print(differentSeries2)\n",
    "\n",
    "print(differentSeries + differentSeries2) # This will only give the sum of 'a' and 'c'."
   ]
  }
 ],
 "metadata": {
  "kernelspec": {
   "display_name": "Python 3 (ipykernel)",
   "language": "python",
   "name": "python3"
  },
  "language_info": {
   "codemirror_mode": {
    "name": "ipython",
    "version": 3
   },
   "file_extension": ".py",
   "mimetype": "text/x-python",
   "name": "python",
   "nbconvert_exporter": "python",
   "pygments_lexer": "ipython3",
   "version": "3.9.18"
  }
 },
 "nbformat": 4,
 "nbformat_minor": 5
}
