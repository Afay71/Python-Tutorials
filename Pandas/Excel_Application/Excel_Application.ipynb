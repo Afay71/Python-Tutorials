{
 "cells": [
  {
   "cell_type": "code",
   "execution_count": 1,
   "id": "b9477ad8-007e-4418-9afe-2568dd06ceeb",
   "metadata": {},
   "outputs": [],
   "source": [
    "import numpy as np\n",
    "import pandas as pd"
   ]
  },
  {
   "cell_type": "code",
   "execution_count": 3,
   "id": "21e11a3e-f7aa-46f7-b387-b237709c3a9c",
   "metadata": {},
   "outputs": [
    {
     "name": "stdout",
     "output_type": "stream",
     "text": [
      "  Unnamed: 0  Maas   Yas  Departman\n",
      "0       Atıl   100  40.0    Yazılım\n",
      "1     Zeynep   150  50.0      Satış\n",
      "2     Mehmet   200  30.0        NaN\n",
      "3      Ahmet    50  10.0  Pazarlama\n",
      "4      Atlas   150   NaN     Finans\n",
      "5      Fatma   200  25.0      Hukuk\n"
     ]
    }
   ],
   "source": [
    "dataFrame = pd.read_excel(\"C:\\\\Users\\\\Arif Furkan\\\\OneDrive\\\\Belgeler\\\\Python_kullanirken\\\\python.xlsx\") # From Excel to Python\n",
    "print(dataFrame)"
   ]
  },
  {
   "cell_type": "code",
   "execution_count": 4,
   "id": "a34fdcc5-fab3-4c98-885a-9687e614c1c7",
   "metadata": {},
   "outputs": [
    {
     "name": "stdout",
     "output_type": "stream",
     "text": [
      "  Unnamed: 0  Maas   Yas  Departman\n",
      "0       Atıl   100  40.0    Yazılım\n",
      "1     Zeynep   150  50.0      Satış\n",
      "3      Ahmet    50  10.0  Pazarlama\n",
      "5      Fatma   200  25.0      Hukuk\n"
     ]
    }
   ],
   "source": [
    "nonNullDataFrame = dataFrame.dropna()\n",
    "print(nonNullDataFrame)"
   ]
  },
  {
   "cell_type": "code",
   "execution_count": 5,
   "id": "91a1e695-7d93-4d24-ad9c-b5d451d783c0",
   "metadata": {},
   "outputs": [],
   "source": [
    "nonNullDataFrame.to_excel(\"C:\\\\Users\\\\Arif Furkan\\\\OneDrive\\\\Belgeler\\\\Python_kullanirken\\\\yeniPython.xlsx\") # From Python to Excel"
   ]
  },
  {
   "cell_type": "code",
   "execution_count": null,
   "id": "aff31b4a-3dba-47b4-bde3-cddfbbd8b699",
   "metadata": {},
   "outputs": [],
   "source": []
  }
 ],
 "metadata": {
  "kernelspec": {
   "display_name": "Python 3 (ipykernel)",
   "language": "python",
   "name": "python3"
  },
  "language_info": {
   "codemirror_mode": {
    "name": "ipython",
    "version": 3
   },
   "file_extension": ".py",
   "mimetype": "text/x-python",
   "name": "python",
   "nbconvert_exporter": "python",
   "pygments_lexer": "ipython3",
   "version": "3.9.18"
  }
 },
 "nbformat": 4,
 "nbformat_minor": 5
}
