{
 "cells": [
  {
   "cell_type": "markdown",
   "id": "171e9b63-65b6-48e4-afb0-6dbbb3fe5e1e",
   "metadata": {},
   "source": [
    "# Creating Data and DataFrame"
   ]
  },
  {
   "cell_type": "code",
   "execution_count": 2,
   "id": "028fce02-3f62-42cb-95cf-9a53068f9b68",
   "metadata": {},
   "outputs": [],
   "source": [
    "from xmlrpc.client import boolean\n",
    "import numpy as np\n",
    "import pandas as pd"
   ]
  },
  {
   "cell_type": "code",
   "execution_count": 3,
   "id": "16c895ff-5ce3-4ab1-bfb3-a0eaa4755b36",
   "metadata": {},
   "outputs": [
    {
     "name": "stdout",
     "output_type": "stream",
     "text": [
      "[[ 0.44151469  0.34232569  1.30848263]\n",
      " [ 0.26012858 -0.86875526  0.92775554]\n",
      " [-1.29353105 -0.70682434 -1.32980746]\n",
      " [-0.17670637 -1.03502425 -0.54869409]]\n",
      "          0         1         2\n",
      "0  0.441515  0.342326  1.308483\n",
      "1  0.260129 -0.868755  0.927756\n",
      "2 -1.293531 -0.706824 -1.329807\n",
      "3 -0.176706 -1.035024 -0.548694\n",
      "0    0.441515\n",
      "1    0.260129\n",
      "2   -1.293531\n",
      "3   -0.176706\n",
      "Name: 0, dtype: float64\n"
     ]
    }
   ],
   "source": [
    "data = np.random.randn(4,3)\n",
    "print(data)\n",
    "dataFrame = pd.DataFrame(data)\n",
    "print(dataFrame)\n",
    "print(dataFrame[0])"
   ]
  },
  {
   "cell_type": "markdown",
   "id": "4961b927-bf19-42b5-a694-e736c3a076de",
   "metadata": {},
   "source": [
    "# Creating a New DataFrame with Index and Columns"
   ]
  },
  {
   "cell_type": "code",
   "execution_count": 4,
   "id": "dab7e548-2b7b-4d71-84ec-8479ff24756d",
   "metadata": {},
   "outputs": [
    {
     "name": "stdout",
     "output_type": "stream",
     "text": [
      "          Salary       Age  Working Hours\n",
      "Atil    0.441515  0.342326       1.308483\n",
      "Zeynep  0.260129 -0.868755       0.927756\n",
      "Atlas  -1.293531 -0.706824      -1.329807\n",
      "Mehmet -0.176706 -1.035024      -0.548694\n",
      "Atil      0.342326\n",
      "Zeynep   -0.868755\n",
      "Atlas    -0.706824\n",
      "Mehmet   -1.035024\n",
      "Name: Age, dtype: float64\n",
      "0.34232569418539155\n",
      "Salary          -1.293531\n",
      "Age             -0.706824\n",
      "Working Hours   -1.329807\n",
      "Name: Atlas, dtype: float64\n",
      "Salary          -0.176706\n",
      "Age             -1.035024\n",
      "Working Hours   -0.548694\n",
      "Name: Mehmet, dtype: float64\n",
      "Atil      1.308483\n",
      "Zeynep    0.927756\n",
      "Atlas    -1.329807\n",
      "Mehmet   -0.548694\n",
      "Name: Working Hours, dtype: float64\n"
     ]
    }
   ],
   "source": [
    "newDataFrame = pd.DataFrame(data, index=[\"Atil\", \"Zeynep\", \"Atlas\", \"Mehmet\"], columns=[\"Salary\", \"Age\", \"Working Hours\"])\n",
    "print(newDataFrame)\n",
    "print(newDataFrame[\"Age\"]) # Select a specific column\n",
    "print(newDataFrame.loc[\"Atil\", \"Age\"]) # Select a specific cell\n",
    "print(newDataFrame.loc[\"Atlas\"]) # Select a specific row\n",
    "print(newDataFrame.iloc[3]) # Select a specific row by position index\n",
    "print(newDataFrame.iloc[:, 2]) # Select a specific column by position index"
   ]
  },
  {
   "cell_type": "markdown",
   "id": "904fa7e9-af92-49ba-862c-176d9e37e0f7",
   "metadata": {},
   "source": [
    "# Adding New Data (Index)"
   ]
  },
  {
   "cell_type": "code",
   "execution_count": 5,
   "id": "ba496e78-7547-4498-90a2-d1eac7b317db",
   "metadata": {},
   "outputs": [
    {
     "name": "stdout",
     "output_type": "stream",
     "text": [
      "          Salary       Age  Working Hours  Retirement Age\n",
      "Atil    0.441515  0.342326       1.308483        0.684651\n",
      "Zeynep  0.260129 -0.868755       0.927756       -1.737511\n",
      "Atlas  -1.293531 -0.706824      -1.329807       -1.413649\n",
      "Mehmet -0.176706 -1.035024      -0.548694       -2.070048\n"
     ]
    }
   ],
   "source": [
    "newDataFrame[\"Retirement Age\"] = newDataFrame[\"Age\"] + newDataFrame[\"Age\"]\n",
    "print(newDataFrame)"
   ]
  },
  {
   "cell_type": "markdown",
   "id": "9a4b9b24-4e73-4802-bf67-a1616aa099ce",
   "metadata": {},
   "source": [
    "# Deleting Data (Index)"
   ]
  },
  {
   "cell_type": "code",
   "execution_count": 6,
   "id": "da9e3506-b756-4de5-ac23-3b542293b965",
   "metadata": {},
   "outputs": [
    {
     "name": "stdout",
     "output_type": "stream",
     "text": [
      "          Salary       Age  Working Hours\n",
      "Atil    0.441515  0.342326       1.308483\n",
      "Zeynep  0.260129 -0.868755       0.927756\n",
      "Atlas  -1.293531 -0.706824      -1.329807\n"
     ]
    }
   ],
   "source": [
    "newDataFrame.drop(\"Mehmet\", axis=0, inplace=True) # Here; axis=0 is row, axis=1 is column\n",
    "newDataFrame.drop(\"Retirement Age\", axis=1, inplace=True)\n",
    "print(newDataFrame)"
   ]
  },
  {
   "cell_type": "markdown",
   "id": "07038109-cb56-4b9d-a11d-79fd4d69888a",
   "metadata": {},
   "source": [
    "# Filtering Data (Index)"
   ]
  },
  {
   "cell_type": "code",
   "execution_count": 8,
   "id": "1f39d3cb-2654-4bd4-86ec-8abcc1184611",
   "metadata": {},
   "outputs": [
    {
     "name": "stdout",
     "output_type": "stream",
     "text": [
      "          Salary       Age  Working Hours\n",
      "Atil         NaN       NaN            NaN\n",
      "Zeynep       NaN -0.868755            NaN\n",
      "Atlas  -1.293531 -0.706824      -1.329807\n",
      "          Salary       Age  Working Hours\n",
      "Atil    0.441515  0.342326       1.308483\n",
      "Zeynep  0.260129 -0.868755       0.927756\n"
     ]
    }
   ],
   "source": [
    "print(newDataFrame[newDataFrame < 0])\n",
    "print(newDataFrame[newDataFrame[\"Working Hours\"] > 0])"
   ]
  },
  {
   "cell_type": "markdown",
   "id": "84464017-bc92-4fc8-8d23-6e1dae19563a",
   "metadata": {},
   "source": [
    "# Labeling Data (Index)"
   ]
  },
  {
   "cell_type": "code",
   "execution_count": 9,
   "id": "9df2020b-e92a-43e6-9dc4-bae9810f0b7f",
   "metadata": {},
   "outputs": [
    {
     "name": "stdout",
     "output_type": "stream",
     "text": [
      "    index    Salary       Age  Working Hours\n",
      "0    Atil  0.441515  0.342326       1.308483\n",
      "1  Zeynep  0.260129 -0.868755       0.927756\n",
      "2   Atlas -1.293531 -0.706824      -1.329807\n",
      "          Salary       Age  Working Hours New Index\n",
      "Atil    0.441515  0.342326       1.308483       Ati\n",
      "Zeynep  0.260129 -0.868755       0.927756       Zey\n",
      "Atlas  -1.293531 -0.706824      -1.329807       Atl\n",
      "             Salary       Age  Working Hours\n",
      "New Index                                   \n",
      "Ati        0.441515  0.342326       1.308483\n",
      "Zey        0.260129 -0.868755       0.927756\n",
      "Atl       -1.293531 -0.706824      -1.329807\n",
      "Salary           0.441515\n",
      "Age              0.342326\n",
      "Working Hours    1.308483\n",
      "Name: Ati, dtype: float64\n"
     ]
    }
   ],
   "source": [
    "print(newDataFrame.reset_index())\n",
    "newIndexList = [\"Ati\", \"Zey\", \"Atl\"]\n",
    "newDataFrame[\"New Index\"] = newIndexList\n",
    "print(newDataFrame) # Here we just defined the new index.\n",
    "newDataFrame.set_index(\"New Index\", inplace=True) # With inplace=True we transferred the new index to names.\n",
    "print(newDataFrame) \n",
    "print(newDataFrame.loc[\"Ati\"])"
   ]
  },
  {
   "cell_type": "markdown",
   "id": "4ba35cd8-f922-4d94-81ad-caf8f9caf2c8",
   "metadata": {},
   "source": [
    "# Categorizing Data (Index)"
   ]
  },
  {
   "cell_type": "code",
   "execution_count": 10,
   "id": "6c324ecc-91e6-48ef-bdfa-d33da40d547e",
   "metadata": {},
   "outputs": [
    {
     "name": "stdout",
     "output_type": "stream",
     "text": [
      "[('Simpson', 'Homer'), ('Simpson', 'Bart'), ('Simpson', 'Marge'), ('South Park', 'Cartman'), ('South Park', 'Kenny'), ('South Park', 'Kyle')]\n",
      "MultiIndex([(   'Simpson',    'Bart'),\n",
      "            (   'Simpson',   'Homer'),\n",
      "            (   'Simpson',   'Marge'),\n",
      "            ('South Park', 'Cartman'),\n",
      "            ('South Park',   'Kenny'),\n",
      "            ('South Park',    'Kyle')],\n",
      "           )\n"
     ]
    }
   ],
   "source": [
    "outerIndexes = [\"Simpson\", \"Simpson\", \"Simpson\", \"South Park\", \"South Park\", \"South Park\"]\n",
    "innerIndexes = [\"Homer\", \"Bart\", \"Marge\", \"Cartman\", \"Kenny\", \"Kyle\"]\n",
    "mergedIndexes = list(zip(outerIndexes, innerIndexes))\n",
    "print(mergedIndexes)\n",
    "mergedIndexes = pd.MultiIndex.from_tuples(sorted(mergedIndexes))\n",
    "print(mergedIndexes)"
   ]
  },
  {
   "cell_type": "code",
   "execution_count": 11,
   "id": "6197d498-5c28-42b2-a0eb-e6868208cfa9",
   "metadata": {},
   "outputs": [
    {
     "name": "stdout",
     "output_type": "stream",
     "text": [
      "                   Age Profession\n",
      "Simpson    Bart     40          A\n",
      "           Homer    10          B\n",
      "           Marge    30          C\n",
      "South Park Cartman   9          D\n",
      "           Kenny    10          E\n",
      "           Kyle     11          F\n",
      "                     Age Profession\n",
      "Cartoon Name Name                  \n",
      "Simpson      Bart     40          A\n",
      "             Homer    10          B\n",
      "             Marge    30          C\n",
      "South Park   Cartman   9          D\n",
      "             Kenny    10          E\n",
      "             Kyle     11          F\n"
     ]
    }
   ],
   "source": [
    "myCartoonList = [[40, \"A\"], [10, \"B\"], [30, \"C\"], [9, \"D\"], [10, \"E\"], [11, \"F\"]] # Table data\n",
    "cartoonNumpyArray = np.array(myCartoonList) # Create array\n",
    "cartoonDataFrame = pd.DataFrame(cartoonNumpyArray, index=mergedIndexes, columns=[\"Age\", \"Profession\"]) # Create categorical table\n",
    "print(cartoonDataFrame)\n",
    "cartoonDataFrame.index.names = [\"Cartoon Name\", \"Name\"]\n",
    "print(cartoonDataFrame)"
   ]
  }
 ],
 "metadata": {
  "kernelspec": {
   "display_name": "Python 3 (ipykernel)",
   "language": "python",
   "name": "python3"
  },
  "language_info": {
   "codemirror_mode": {
    "name": "ipython",
    "version": 3
   },
   "file_extension": ".py",
   "mimetype": "text/x-python",
   "name": "python",
   "nbconvert_exporter": "python",
   "pygments_lexer": "ipython3",
   "version": "3.9.18"
  }
 },
 "nbformat": 4,
 "nbformat_minor": 5
}
