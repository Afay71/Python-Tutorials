{
 "cells": [
  {
   "cell_type": "code",
   "execution_count": 1,
   "id": "42f9e7dc-b041-40c5-b028-f1efca2ce590",
   "metadata": {},
   "outputs": [],
   "source": [
    "import numpy as np\n",
    "import pandas as pd"
   ]
  },
  {
   "cell_type": "markdown",
   "id": "3ab82e8e-aebb-4bfb-9b28-0d6aa5d1f2be",
   "metadata": {},
   "source": [
    "# Library Operations"
   ]
  },
  {
   "cell_type": "code",
   "execution_count": 4,
   "id": "c1bd412d-1e03-4299-81ee-1f9787d235e0",
   "metadata": {},
   "outputs": [
    {
     "name": "stdout",
     "output_type": "stream",
     "text": [
      "     Name       Sport  Calories\n",
      "0   Ahmet     Running       100\n",
      "1  Mehmet    Swimming       200\n",
      "2  Zeynep     Running       300\n",
      "3    Atil  Basketball       400\n"
     ]
    }
   ],
   "source": [
    "dictionary1 = {\"Name\" : [\"Ahmet\", \"Mehmet\", \"Zeynep\", \"Atil\"],\n",
    "\"Sport\" : [\"Running\", \"Swimming\", \"Running\", \"Basketball\"],\n",
    "\"Calories\" : [100, 200, 300, 400]}\n",
    "\n",
    "dataFrame1 = pd.DataFrame(dictionary1, index=[0, 1, 2, 3])\n",
    "print(dataFrame1)"
   ]
  },
  {
   "cell_type": "code",
   "execution_count": 5,
   "id": "8a7c0a60-527c-431a-abc5-240a89ebdbab",
   "metadata": {},
   "outputs": [
    {
     "name": "stdout",
     "output_type": "stream",
     "text": [
      "     Name       Sport  Calories\n",
      "4   Osman     Running       200\n",
      "5  Levent    Swimming       100\n",
      "6   Atlas     Running        50\n",
      "7   Fatma  Basketball       300\n"
     ]
    }
   ],
   "source": [
    "dictionary2 = {\"Name\" : [\"Osman\", \"Levent\", \"Atlas\", \"Fatma\"],\n",
    "\"Sport\" : [\"Running\", \"Swimming\", \"Running\", \"Basketball\"],\n",
    "\"Calories\" : [200, 100, 50, 300]}\n",
    "\n",
    "dataFrame2 = pd.DataFrame(dictionary2, index=[4, 5, 6, 7])\n",
    "print(dataFrame2)"
   ]
  },
  {
   "cell_type": "code",
   "execution_count": 6,
   "id": "0f65e5ea-6d35-4a62-a430-3708298e65d3",
   "metadata": {},
   "outputs": [
    {
     "name": "stdout",
     "output_type": "stream",
     "text": [
      "      Name      Sport  Calories\n",
      "8     Ayse    Running       300\n",
      "9   Mahmut   Swimming       400\n",
      "10   Duygu  Badminton       500\n",
      "11     Nur     Tennis       250\n"
     ]
    }
   ],
   "source": [
    "dictionary3 = {\"Name\" : [\"Ayse\", \"Mahmut\", \"Duygu\", \"Nur\"],\n",
    "\"Sport\" : [\"Running\", \"Swimming\", \"Badminton\", \"Tennis\"],\n",
    "\"Calories\" : [300, 400, 500, 250]}\n",
    "\n",
    "dataFrame3 = pd.DataFrame(dictionary3, index=[8, 9, 10, 11])\n",
    "print(dataFrame3)"
   ]
  },
  {
   "cell_type": "markdown",
   "id": "5bf54e82-84c3-4fdd-ab45-000684b106db",
   "metadata": {},
   "source": [
    "## Concatenation CONCAT"
   ]
  },
  {
   "cell_type": "code",
   "execution_count": 8,
   "id": "4600fb7d-eda7-47f5-935a-87ecf867236d",
   "metadata": {},
   "outputs": [
    {
     "name": "stdout",
     "output_type": "stream",
     "text": [
      "      Name       Sport  Calories\n",
      "0    Ahmet     Running       100\n",
      "1   Mehmet    Swimming       200\n",
      "2   Zeynep     Running       300\n",
      "3     Atil  Basketball       400\n",
      "4    Osman     Running       200\n",
      "5   Levent    Swimming       100\n",
      "6    Atlas     Running        50\n",
      "7    Fatma  Basketball       300\n",
      "8     Ayse     Running       300\n",
      "9   Mahmut    Swimming       400\n",
      "10   Duygu   Badminton       500\n",
      "11     Nur      Tennis       250\n"
     ]
    }
   ],
   "source": [
    "dataFrame4 = pd.concat([dataFrame1, dataFrame2, dataFrame3], axis=0) # axis can also be 1, but that would cause an error\n",
    "print(dataFrame4)"
   ]
  },
  {
   "cell_type": "markdown",
   "id": "7a868190-3d80-4327-956d-24bf0a02e4d6",
   "metadata": {},
   "source": [
    "## MERGE"
   ]
  },
  {
   "cell_type": "code",
   "execution_count": 9,
   "id": "82f88ed5-2046-4696-9666-1fdce6470ccc",
   "metadata": {},
   "outputs": [
    {
     "name": "stdout",
     "output_type": "stream",
     "text": [
      "     Name       Sport\n",
      "0   Ahmet     Running\n",
      "1  Mehmet    Swimming\n",
      "2  Zeynep     Running\n",
      "3    Atil  Basketball\n"
     ]
    }
   ],
   "source": [
    "mergeDictionary1 = {\"Name\" : [\"Ahmet\", \"Mehmet\", \"Zeynep\", \"Atil\"],\n",
    "\"Sport\" : [\"Running\", \"Swimming\", \"Running\", \"Basketball\"]}\n",
    "mergeDataFrame1 = pd.DataFrame(mergeDictionary1)\n",
    "print(mergeDataFrame1)"
   ]
  },
  {
   "cell_type": "code",
   "execution_count": 10,
   "id": "fd6c7b32-7257-4b81-8067-90f1e720d069",
   "metadata": {},
   "outputs": [
    {
     "name": "stdout",
     "output_type": "stream",
     "text": [
      "     Name  Calories\n",
      "0   Ahmet       100\n",
      "1  Mehmet       200\n",
      "2  Zeynep       150\n",
      "3    Atil       250\n"
     ]
    }
   ],
   "source": [
    "mergeDictionary2 = {\"Name\" : [\"Ahmet\", \"Mehmet\", \"Zeynep\", \"Atil\"],\n",
    "\"Calories\" : [100, 200, 150, 250]}\n",
    "mergeDataFrame2 = pd.DataFrame(mergeDictionary2)\n",
    "print(mergeDataFrame2)"
   ]
  },
  {
   "cell_type": "code",
   "execution_count": 11,
   "id": "c3a43934-522a-4a19-808b-32080a44199b",
   "metadata": {},
   "outputs": [
    {
     "name": "stdout",
     "output_type": "stream",
     "text": [
      "     Name       Sport  Calories\n",
      "0   Ahmet     Running       100\n",
      "1  Mehmet    Swimming       200\n",
      "2  Zeynep     Running       150\n",
      "3    Atil  Basketball       250\n"
     ]
    }
   ],
   "source": [
    "mergeDataFrame3 = pd.merge(mergeDataFrame1, mergeDataFrame2, on=\"Name\")\n",
    "print(mergeDataFrame3)"
   ]
  },
  {
   "cell_type": "code",
   "execution_count": 12,
   "id": "f4762561-396b-41a9-b67d-a4d187d52cfb",
   "metadata": {},
   "outputs": [
    {
     "name": "stdout",
     "output_type": "stream",
     "text": [
      "     Name Department  Salary\n",
      "0    Atil   Software     200\n",
      "1  Zeynep      Sales     300\n",
      "2  Mehmet  Marketing     500\n",
      "3   Ahmet   Software     400\n",
      "['Software' 'Sales' 'Marketing']\n",
      "3\n",
      "Department\n",
      "Software     2\n",
      "Sales        1\n",
      "Marketing    1\n",
      "Name: count, dtype: int64\n"
     ]
    }
   ],
   "source": [
    "salaryDictionary = {\"Name\": [\"Atil\", \"Zeynep\", \"Mehmet\", \"Ahmet\"], \n",
    "                    \"Department\": [\"Software\", \"Sales\", \"Marketing\", \"Software\"],\n",
    "                    \"Salary\": [200, 300, 500, 400]}\n",
    "salaryDataFrame = pd.DataFrame(salaryDictionary)\n",
    "print(salaryDataFrame)\n",
    "\n",
    "print(salaryDataFrame[\"Department\"].unique()) # What are the departments?\n",
    "print(salaryDataFrame[\"Department\"].nunique()) # How many unique departments are there?\n",
    "print(salaryDataFrame[\"Department\"].value_counts()) # How many are there in each department?"
   ]
  },
  {
   "cell_type": "code",
   "execution_count": 13,
   "id": "cf0e2c6b-ea38-49d4-962b-25837116b6c7",
   "metadata": {},
   "outputs": [
    {
     "name": "stdout",
     "output_type": "stream",
     "text": [
      "0    132.0\n",
      "1    198.0\n",
      "2    330.0\n",
      "3    264.0\n",
      "Name: Salary, dtype: float64\n"
     ]
    }
   ],
   "source": [
    "def grossToNet(salary):\n",
    "    return salary * 0.66\n",
    "print(salaryDataFrame[\"Salary\"].apply(grossToNet)) # Apply the function to the table"
   ]
  }
 ],
 "metadata": {
  "kernelspec": {
   "display_name": "Python 3 (ipykernel)",
   "language": "python",
   "name": "python3"
  },
  "language_info": {
   "codemirror_mode": {
    "name": "ipython",
    "version": 3
   },
   "file_extension": ".py",
   "mimetype": "text/x-python",
   "name": "python",
   "nbconvert_exporter": "python",
   "pygments_lexer": "ipython3",
   "version": "3.9.18"
  }
 },
 "nbformat": 4,
 "nbformat_minor": 5
}
